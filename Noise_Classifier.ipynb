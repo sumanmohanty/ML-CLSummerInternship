{
 "cells": [
  {
   "cell_type": "code",
   "execution_count": 1,
   "metadata": {},
   "outputs": [],
   "source": [
    "import pandas as pd"
   ]
  },
  {
   "cell_type": "code",
   "execution_count": 10,
   "metadata": {},
   "outputs": [
    {
     "data": {
      "text/html": [
       "<div>\n",
       "<style scoped>\n",
       "    .dataframe tbody tr th:only-of-type {\n",
       "        vertical-align: middle;\n",
       "    }\n",
       "\n",
       "    .dataframe tbody tr th {\n",
       "        vertical-align: top;\n",
       "    }\n",
       "\n",
       "    .dataframe thead th {\n",
       "        text-align: right;\n",
       "    }\n",
       "</style>\n",
       "<table border=\"1\" class=\"dataframe\">\n",
       "  <thead>\n",
       "    <tr style=\"text-align: right;\">\n",
       "      <th></th>\n",
       "      <th>dbfs</th>\n",
       "      <th>rms</th>\n",
       "      <th>avg</th>\n",
       "      <th>mode</th>\n",
       "      <th>std</th>\n",
       "      <th>dcoffset</th>\n",
       "      <th>filename</th>\n",
       "      <th>target</th>\n",
       "    </tr>\n",
       "  </thead>\n",
       "  <tbody>\n",
       "    <tr>\n",
       "      <th>0</th>\n",
       "      <td>-23.342901</td>\n",
       "      <td>0.068081</td>\n",
       "      <td>9.726773e-06</td>\n",
       "      <td>0.000000</td>\n",
       "      <td>0.068081</td>\n",
       "      <td>0.000000</td>\n",
       "      <td>BPCRGRYCXPI</td>\n",
       "      <td>silent</td>\n",
       "    </tr>\n",
       "    <tr>\n",
       "      <th>1</th>\n",
       "      <td>-32.613091</td>\n",
       "      <td>0.023555</td>\n",
       "      <td>-1.376716e-05</td>\n",
       "      <td>-0.033556</td>\n",
       "      <td>0.023555</td>\n",
       "      <td>-0.000061</td>\n",
       "      <td>UE4OHIQ6JJO</td>\n",
       "      <td>noise</td>\n",
       "    </tr>\n",
       "    <tr>\n",
       "      <th>2</th>\n",
       "      <td>-33.918120</td>\n",
       "      <td>0.020217</td>\n",
       "      <td>-2.388173e-05</td>\n",
       "      <td>-0.020961</td>\n",
       "      <td>0.020217</td>\n",
       "      <td>-0.000061</td>\n",
       "      <td>N0B0Z81N2KQ</td>\n",
       "      <td>noise</td>\n",
       "    </tr>\n",
       "    <tr>\n",
       "      <th>3</th>\n",
       "      <td>-28.287812</td>\n",
       "      <td>0.038521</td>\n",
       "      <td>-2.014348e-06</td>\n",
       "      <td>0.000122</td>\n",
       "      <td>0.038521</td>\n",
       "      <td>-0.000031</td>\n",
       "      <td>IL6D7IEAKXH</td>\n",
       "      <td>silent</td>\n",
       "    </tr>\n",
       "    <tr>\n",
       "      <th>4</th>\n",
       "      <td>-24.189081</td>\n",
       "      <td>0.061746</td>\n",
       "      <td>-6.716756e-07</td>\n",
       "      <td>-0.000122</td>\n",
       "      <td>0.061746</td>\n",
       "      <td>-0.000031</td>\n",
       "      <td>6VKOI64H5QS</td>\n",
       "      <td>silent</td>\n",
       "    </tr>\n",
       "  </tbody>\n",
       "</table>\n",
       "</div>"
      ],
      "text/plain": [
       "        dbfs       rms           avg      mode       std  dcoffset  \\\n",
       "0 -23.342901  0.068081  9.726773e-06  0.000000  0.068081  0.000000   \n",
       "1 -32.613091  0.023555 -1.376716e-05 -0.033556  0.023555 -0.000061   \n",
       "2 -33.918120  0.020217 -2.388173e-05 -0.020961  0.020217 -0.000061   \n",
       "3 -28.287812  0.038521 -2.014348e-06  0.000122  0.038521 -0.000031   \n",
       "4 -24.189081  0.061746 -6.716756e-07 -0.000122  0.061746 -0.000031   \n",
       "\n",
       "      filename  target  \n",
       "0  BPCRGRYCXPI  silent  \n",
       "1  UE4OHIQ6JJO   noise  \n",
       "2  N0B0Z81N2KQ   noise  \n",
       "3  IL6D7IEAKXH  silent  \n",
       "4  6VKOI64H5QS  silent  "
      ]
     },
     "execution_count": 10,
     "metadata": {},
     "output_type": "execute_result"
    }
   ],
   "source": [
    "df=pd.read_csv('train.csv')\n",
    "df.head()"
   ]
  },
  {
   "cell_type": "code",
   "execution_count": 11,
   "metadata": {},
   "outputs": [
    {
     "data": {
      "text/html": [
       "<div>\n",
       "<style scoped>\n",
       "    .dataframe tbody tr th:only-of-type {\n",
       "        vertical-align: middle;\n",
       "    }\n",
       "\n",
       "    .dataframe tbody tr th {\n",
       "        vertical-align: top;\n",
       "    }\n",
       "\n",
       "    .dataframe thead th {\n",
       "        text-align: right;\n",
       "    }\n",
       "</style>\n",
       "<table border=\"1\" class=\"dataframe\">\n",
       "  <thead>\n",
       "    <tr style=\"text-align: right;\">\n",
       "      <th></th>\n",
       "      <th>dbfs</th>\n",
       "      <th>rms</th>\n",
       "      <th>avg</th>\n",
       "      <th>mode</th>\n",
       "      <th>std</th>\n",
       "      <th>dcoffset</th>\n",
       "      <th>target</th>\n",
       "    </tr>\n",
       "  </thead>\n",
       "  <tbody>\n",
       "    <tr>\n",
       "      <th>0</th>\n",
       "      <td>-23.342901</td>\n",
       "      <td>0.068081</td>\n",
       "      <td>9.726773e-06</td>\n",
       "      <td>0.000000</td>\n",
       "      <td>0.068081</td>\n",
       "      <td>0.000000</td>\n",
       "      <td>silent</td>\n",
       "    </tr>\n",
       "    <tr>\n",
       "      <th>1</th>\n",
       "      <td>-32.613091</td>\n",
       "      <td>0.023555</td>\n",
       "      <td>-1.376716e-05</td>\n",
       "      <td>-0.033556</td>\n",
       "      <td>0.023555</td>\n",
       "      <td>-0.000061</td>\n",
       "      <td>noise</td>\n",
       "    </tr>\n",
       "    <tr>\n",
       "      <th>2</th>\n",
       "      <td>-33.918120</td>\n",
       "      <td>0.020217</td>\n",
       "      <td>-2.388173e-05</td>\n",
       "      <td>-0.020961</td>\n",
       "      <td>0.020217</td>\n",
       "      <td>-0.000061</td>\n",
       "      <td>noise</td>\n",
       "    </tr>\n",
       "    <tr>\n",
       "      <th>3</th>\n",
       "      <td>-28.287812</td>\n",
       "      <td>0.038521</td>\n",
       "      <td>-2.014348e-06</td>\n",
       "      <td>0.000122</td>\n",
       "      <td>0.038521</td>\n",
       "      <td>-0.000031</td>\n",
       "      <td>silent</td>\n",
       "    </tr>\n",
       "    <tr>\n",
       "      <th>4</th>\n",
       "      <td>-24.189081</td>\n",
       "      <td>0.061746</td>\n",
       "      <td>-6.716756e-07</td>\n",
       "      <td>-0.000122</td>\n",
       "      <td>0.061746</td>\n",
       "      <td>-0.000031</td>\n",
       "      <td>silent</td>\n",
       "    </tr>\n",
       "    <tr>\n",
       "      <th>...</th>\n",
       "      <td>...</td>\n",
       "      <td>...</td>\n",
       "      <td>...</td>\n",
       "      <td>...</td>\n",
       "      <td>...</td>\n",
       "      <td>...</td>\n",
       "      <td>...</td>\n",
       "    </tr>\n",
       "    <tr>\n",
       "      <th>1995</th>\n",
       "      <td>-30.466769</td>\n",
       "      <td>0.029989</td>\n",
       "      <td>-1.134274e-05</td>\n",
       "      <td>0.000305</td>\n",
       "      <td>0.029989</td>\n",
       "      <td>-0.000031</td>\n",
       "      <td>silent</td>\n",
       "    </tr>\n",
       "    <tr>\n",
       "      <th>1996</th>\n",
       "      <td>-33.258062</td>\n",
       "      <td>0.021791</td>\n",
       "      <td>-2.203779e-05</td>\n",
       "      <td>-0.062787</td>\n",
       "      <td>0.021791</td>\n",
       "      <td>-0.000022</td>\n",
       "      <td>noise</td>\n",
       "    </tr>\n",
       "    <tr>\n",
       "      <th>1997</th>\n",
       "      <td>-25.300599</td>\n",
       "      <td>0.054325</td>\n",
       "      <td>-3.338114e-03</td>\n",
       "      <td>-0.003296</td>\n",
       "      <td>0.054223</td>\n",
       "      <td>-0.003357</td>\n",
       "      <td>silent</td>\n",
       "    </tr>\n",
       "    <tr>\n",
       "      <th>1998</th>\n",
       "      <td>-14.004087</td>\n",
       "      <td>0.200655</td>\n",
       "      <td>-6.724937e-06</td>\n",
       "      <td>-0.427449</td>\n",
       "      <td>0.200655</td>\n",
       "      <td>-0.000031</td>\n",
       "      <td>noise</td>\n",
       "    </tr>\n",
       "    <tr>\n",
       "      <th>1999</th>\n",
       "      <td>-28.718139</td>\n",
       "      <td>0.036654</td>\n",
       "      <td>-2.577067e-06</td>\n",
       "      <td>-0.000031</td>\n",
       "      <td>0.036654</td>\n",
       "      <td>-0.000031</td>\n",
       "      <td>silent</td>\n",
       "    </tr>\n",
       "  </tbody>\n",
       "</table>\n",
       "<p>2000 rows × 7 columns</p>\n",
       "</div>"
      ],
      "text/plain": [
       "           dbfs       rms           avg      mode       std  dcoffset  target\n",
       "0    -23.342901  0.068081  9.726773e-06  0.000000  0.068081  0.000000  silent\n",
       "1    -32.613091  0.023555 -1.376716e-05 -0.033556  0.023555 -0.000061   noise\n",
       "2    -33.918120  0.020217 -2.388173e-05 -0.020961  0.020217 -0.000061   noise\n",
       "3    -28.287812  0.038521 -2.014348e-06  0.000122  0.038521 -0.000031  silent\n",
       "4    -24.189081  0.061746 -6.716756e-07 -0.000122  0.061746 -0.000031  silent\n",
       "...         ...       ...           ...       ...       ...       ...     ...\n",
       "1995 -30.466769  0.029989 -1.134274e-05  0.000305  0.029989 -0.000031  silent\n",
       "1996 -33.258062  0.021791 -2.203779e-05 -0.062787  0.021791 -0.000022   noise\n",
       "1997 -25.300599  0.054325 -3.338114e-03 -0.003296  0.054223 -0.003357  silent\n",
       "1998 -14.004087  0.200655 -6.724937e-06 -0.427449  0.200655 -0.000031   noise\n",
       "1999 -28.718139  0.036654 -2.577067e-06 -0.000031  0.036654 -0.000031  silent\n",
       "\n",
       "[2000 rows x 7 columns]"
      ]
     },
     "execution_count": 11,
     "metadata": {},
     "output_type": "execute_result"
    }
   ],
   "source": [
    "df.drop(labels='filename',axis=1)"
   ]
  },
  {
   "cell_type": "code",
   "execution_count": 17,
   "metadata": {},
   "outputs": [
    {
     "name": "stdout",
     "output_type": "stream",
     "text": [
      "Collecting sklearn\n",
      "  Downloading sklearn-0.0.tar.gz (1.1 kB)\n",
      "Requirement already satisfied: scikit-learn in c:\\users\\suman mohanty\\appdata\\local\\programs\\python\\python38\\lib\\site-packages (from sklearn) (0.23.2)\n",
      "Requirement already satisfied: threadpoolctl>=2.0.0 in c:\\users\\suman mohanty\\appdata\\local\\programs\\python\\python38\\lib\\site-packages (from scikit-learn->sklearn) (2.1.0)\n",
      "Requirement already satisfied: scipy>=0.19.1 in c:\\users\\suman mohanty\\appdata\\local\\programs\\python\\python38\\lib\\site-packages (from scikit-learn->sklearn) (1.4.1)\n",
      "Requirement already satisfied: numpy>=1.13.3 in c:\\users\\suman mohanty\\appdata\\local\\programs\\python\\python38\\lib\\site-packages (from scikit-learn->sklearn) (1.18.5)\n",
      "Requirement already satisfied: joblib>=0.11 in c:\\users\\suman mohanty\\appdata\\local\\programs\\python\\python38\\lib\\site-packages (from scikit-learn->sklearn) (0.16.0)\n",
      "Building wheels for collected packages: sklearn\n",
      "  Building wheel for sklearn (setup.py): started\n",
      "  Building wheel for sklearn (setup.py): finished with status 'done'\n",
      "  Created wheel for sklearn: filename=sklearn-0.0-py2.py3-none-any.whl size=1320 sha256=2f0aac727af266d5f3fdd7d9cf0444ea4b3978c3a53ff3ab51b194b41af7e893\n",
      "  Stored in directory: c:\\users\\suman mohanty\\appdata\\local\\pip\\cache\\wheels\\22\\0b\\40\\fd3f795caaa1fb4c6cb738bc1f56100be1e57da95849bfc897\n",
      "Successfully built sklearn\n",
      "Installing collected packages: sklearn\n",
      "Successfully installed sklearn-0.0\n"
     ]
    },
    {
     "name": "stderr",
     "output_type": "stream",
     "text": [
      "WARNING: You are using pip version 20.2.1; however, version 20.2.3 is available.\n",
      "You should consider upgrading via the 'c:\\users\\suman mohanty\\appdata\\local\\programs\\python\\python38\\python.exe -m pip install --upgrade pip' command.\n"
     ]
    }
   ],
   "source": [
    "!pip install sklearn"
   ]
  },
  {
   "cell_type": "code",
   "execution_count": 19,
   "metadata": {},
   "outputs": [],
   "source": [
    "l=['dbfs','rms','avg','mode','std','dcoffset']\n",
    "X=df[l]\n",
    "y=df.target\n",
    "from sklearn.model_selection import train_test_split\n",
    "X_train,X_test,y_train,y_test=train_test_split(X,y,test_size=0.25,random_state=0)"
   ]
  },
  {
   "cell_type": "code",
   "execution_count": 20,
   "metadata": {},
   "outputs": [],
   "source": [
    "# import the class\n",
    "from sklearn.linear_model import LogisticRegression\n",
    "logreg = LogisticRegression()\n",
    "logreg.fit(X_train,y_train)\n",
    "y_pred=logreg.predict(X_test)"
   ]
  },
  {
   "cell_type": "code",
   "execution_count": 21,
   "metadata": {},
   "outputs": [
    {
     "data": {
      "text/plain": [
       "array([[193,  53],\n",
       "       [  1, 253]], dtype=int64)"
      ]
     },
     "execution_count": 21,
     "metadata": {},
     "output_type": "execute_result"
    }
   ],
   "source": [
    "from sklearn import metrics\n",
    "cnf_matrix = metrics.confusion_matrix(y_test, y_pred)\n",
    "cnf_matrix"
   ]
  },
  {
   "cell_type": "code",
   "execution_count": 22,
   "metadata": {},
   "outputs": [],
   "source": [
    "import numpy as np\n",
    "import matplotlib.pyplot as plt\n",
    "import seaborn as sns\n",
    "%matplotlib inline"
   ]
  },
  {
   "cell_type": "code",
   "execution_count": 23,
   "metadata": {},
   "outputs": [
    {
     "data": {
      "text/plain": [
       "Text(0.5, 257.44, 'Predicted label')"
      ]
     },
     "execution_count": 23,
     "metadata": {},
     "output_type": "execute_result"
    },
    {
     "data": {
      "image/png": "[encoded data removed]",
      "text/plain": [
       "<Figure size 432x288 with 2 Axes>"
      ]
     },
     "metadata": {
      "needs_background": "light"
     },
     "output_type": "display_data"
    }
   ],
   "source": [
    "class_names=[0,1] # name  of classes\n",
    "fig, ax = plt.subplots()\n",
    "tick_marks = np.arange(len(class_names))\n",
    "plt.xticks(tick_marks, class_names)\n",
    "plt.yticks(tick_marks, class_names)\n",
    "# create heatmap\n",
    "sns.heatmap(pd.DataFrame(cnf_matrix), annot=True, cmap=\"YlGnBu\" ,fmt='g')\n",
    "ax.xaxis.set_label_position(\"top\")\n",
    "plt.tight_layout()\n",
    "plt.title('Confusion matrix', y=1.1)\n",
    "plt.ylabel('Actual label')\n",
    "plt.xlabel('Predicted label')"
   ]
  },
  {
   "cell_type": "code",
   "execution_count": 25,
   "metadata": {},
   "outputs": [
    {
     "name": "stdout",
     "output_type": "stream",
     "text": [
      "Accuracy: 0.892\n"
     ]
    }
   ],
   "source": [
    "print(\"Accuracy:\",metrics.accuracy_score(y_test, y_pred))"
   ]
  },
  {
   "cell_type": "code",
   "execution_count": 32,
   "metadata": {},
   "outputs": [
    {
     "name": "stdout",
     "output_type": "stream",
     "text": [
      "Accuracy: 0.934\n"
     ]
    }
   ],
   "source": [
    "df=pd.read_csv('validation.csv')\n",
    "df.head()\n",
    "df.drop(labels='filename',axis=1)\n",
    "X=df[l]\n",
    "Y=df.target\n",
    "y_pred=logreg.predict(X)\n",
    "print(\"Accuracy:\",metrics.accuracy_score(Y, y_pred))"
   ]
  },
  {
   "cell_type": "code",
   "execution_count": null,
   "metadata": {},
   "outputs": [],
   "source": []
  }
 ],
 "metadata": {
  "kernelspec": {
   "display_name": "Python 3",
   "language": "python",
   "name": "python3"
  },
  "language_info": {
   "codemirror_mode": {
    "name": "ipython",
    "version": 3
   },
   "file_extension": ".py",
   "mimetype": "text/x-python",
   "name": "python",
   "nbconvert_exporter": "python",
   "pygments_lexer": "ipython3",
   "version": "3.8.5"
  }
 },
 "nbformat": 4,
 "nbformat_minor": 4
}
